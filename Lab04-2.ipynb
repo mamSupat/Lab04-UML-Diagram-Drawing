{
 "cells": [
  {
   "cell_type": "markdown",
   "metadata": {
    "dotnet_interactive": {
     "language": "csharp"
    },
    "polyglot_notebook": {
     "kernelName": "csharp"
    }
   },
   "source": [
    "# Lab04.2 การใช้งาน Plantuml (Online)"
   ]
  },
  {
   "cell_type": "markdown",
   "metadata": {},
   "source": [
    "### 4.2.1  ส่วน user interface ของเวบและการใช้งาน\n",
    "การใช้งาน Plantuml ให้เข้าไปที่หน้า homepage  ของ PlantUML ตามลิงค์นี้  http://plantuml.com/en "
   ]
  },
  {
   "cell_type": "markdown",
   "metadata": {},
   "source": [
    "![](./Pictures/Pict-15-PlantUML-Homepage.png)"
   ]
  },
  {
   "cell_type": "markdown",
   "metadata": {},
   "source": [
    "เมื่อเข้าไปยัง web site ดังกล่าว จะเห็นหน้าเพจดังรูป ซึ่งมีส่วนติดต่อผู้ใช้อยู่ 3 ส่วนหลักๆ คือ \n",
    "\n",
    "1. ส่วนเมนูหลัก\n",
    "2. ส่วนเลือกชนิดของไดอะแกรม\n",
    "3. ส่วนเนื้อหา\n",
    "\n",
    "ให้คลิกที่เมนูส่วนที่สอง ในหัวข้อ class diagram จะปรากฏตัวอย่างการเขียน code เพื่อสร้าง class diagram ดังรูป"
   ]
  },
  {
   "cell_type": "markdown",
   "metadata": {},
   "source": [
    "![](./Pictures/Pict-16-Class-diagram-example.png)\n",
    "\n",
    "จะสังเกตุว่าด้านขวามือของ web browser จะมีเมนูย่อยสำหรับการกระโดดไปที่ตัวอย่างแต่ละหัวข้อ"
   ]
  },
  {
   "cell_type": "markdown",
   "metadata": {},
   "source": [
    "ในหน้าต่างนี้เราสามารถแบ่งส่วนที่น่าสนใจได้ 3 ส่วน ได้แก่\n",
    "\n",
    "1. ส่วนเมนูจัดการ code ซึ่งมี 2 ปุ่มให้เรียกใช้คือ `Copy to clipboard` และ `Edit online`\n",
    "2. ส่วนของ Code\n",
    "3. ส่วนของ graphics ที่ได้จากการ render ของ code ที่เขียนในส่วนที่ 2 \n",
    "\n",
    "ในหัวข้อนี้ ให้นักศึกษาเริ่มจากตัวอย่างง่าย ๆ ได้แก่การสร้าง class รวมถึง element ต่าง ๆ ที่ใช้ในคลาสไดอะแกรม (ความหมายและการใช้งานของ element ต่าง ๆ นั้นเราจะทยอยเรียนไปตามลำดับเนื้อหา)  \n",
    "\n",
    "เราสามารถทดลองแก้ไข code และ graphics ได้ด้วยใช้ online editor โดยการกดปุ่ม Edit online (เป็นปุ่มกดอยู่ในส่วนที่ 1 ของรูปด้านบน)\n",
    "\n",
    "![](./Pictures/Pict-17-Class-diagram-edit-online.png)"
   ]
  },
  {
   "cell_type": "markdown",
   "metadata": {},
   "source": [
    "เมื่อเข้ามาในหน้า Edit online แล้วจะพบว่ามีส่วนที่น่าสนใจอยู่ 2 ส่วนคือ \n",
    "\n",
    "1. ส่วนของ code ที่สามารถแก้ไขได้\n",
    "2. ส่วนแสดง graphic ที่ได้จากการเขียน code "
   ]
  },
  {
   "cell_type": "markdown",
   "metadata": {},
   "source": [
    "### 4.2.2 การเพิ่ม properties และ methods "
   ]
  },
  {
   "cell_type": "markdown",
   "metadata": {},
   "source": [
    "### 1 การเขียนคลาสอย่างง่าย"
   ]
  },
  {
   "cell_type": "markdown",
   "metadata": {},
   "source": [
    "ในการเขียน class diagram บน plantUML เราสามารถเขียนคลาสอย่าง่ายโดยมีแค่ชื่อคลาสหรือสามารถใส่ attributes และ methods ได้ "
   ]
  },
  {
   "cell_type": "markdown",
   "metadata": {},
   "source": [
    "รูปแบบการเขียน  code สำหรับ plantUML จะต้องเริ่มด้วยคำว่า `@startuml` และจบด้วยคำว่า `@enduml` เสมอ\n",
    "\n",
    "การเขียน class จะใช้รูปแบบดังนี้\n",
    "\n",
    "``` plantuml\n",
    "\n",
    "@startuml\n",
    "class ClassName\n",
    "{\n",
    "' ภายในวงเล็บปีกกาคือ class body   \n",
    "}\n",
    "@enduml\n",
    "\n",
    "```\n",
    "\n",
    "ภายใน class body จะประกอบด้วย attributes และ Methods โดย plantUML จะจำแนกความแตกต่างระหว่าง attributes และ methods  จากเครื่องหมายวงเล็บหลังชื่อ ถ้ามีวงเล็บจะถูกจัดให้เป็น methods โดยอัตโนมัติ และไม่สนใจตำแหน่งที่ปรากฏใน code ของ plantUML\n",
    "\n",
    "\n",
    "***หมายเหตุ*** \n",
    "ในเนื้อหาที่แสดงบนเว็บของ github จะมีคำว่า plantuml เป็นส่วนหนึ่งของ code \n",
    "\n",
    "แต่นักศึกษาไม่ต้องใส่ลงไปใน plantuml editor \n",
    "\n",
    "ที่เป็นเช่นนั้นเนื่องมาจากการ render ภาษา markdown ในไฟล์ notebook ที่ไม่รองรับภาษา plantuml\n"
   ]
  },
  {
   "cell_type": "markdown",
   "metadata": {},
   "source": [
    "![](./Pictures/Pict-19-Class-Simple.png)"
   ]
  },
  {
   "cell_type": "markdown",
   "metadata": {},
   "source": [
    "### 2. การเพิ่ม Attributes และ Methods ให้คลาส\n",
    "\n",
    "เมื่อโปรแกรมมีความซับซ้อนมากขึ้น คลาสของเราก็อาจจะมีความซับซ้อนมากขึ้น plantUML ก็มีรูปแบบการเขียนไว้รองรับเช่นกัน พิจารณาจากรูปต่อไปนี้\n",
    "\n",
    "\n",
    "![](./Pictures/Pict-20-Class-more.png)"
   ]
  },
  {
   "cell_type": "markdown",
   "metadata": {},
   "source": [
    "### 3. การเพิ่ม Data type ให้ Attributes และ Methods \n",
    "\n",
    "ในการระบุ attributes และ methods เราอาจจะต้องระบุชนิดของข้อมูล เพื่อให้ส่วนอื่นของโปรแกรมที่ใช้งานคลาสได้เตรียม code ที่เหมาะสมในการส่งพารามิเตอร์หรือนำผลลัพธ์ไปใช้\n",
    "\n",
    "![](./Pictures/Pict-21-Class-add-data-type.png)"
   ]
  },
  {
   "cell_type": "markdown",
   "metadata": {},
   "source": [
    "### 4.2.3 การกำหนด  visibility ให้กับส่วนประกอบต่างๆ ของคลาส \n",
    "\n",
    "คลาสคือการทำ encapsulation ซึ่งต้องมีความสามารถในการตวบคุมการเข้าถึง attributes หรือ methods ในคลาส เราสามารถใช้เครื่องหมายต่างๆ เพื่อควบคุมการเข้าถึง attributes และ methods ซึ่งจะให้ผลการ render ที่แตกต่างกัน พิจารณาจากรูปด้านล่าง\n",
    "\n",
    "![](./Pictures/Pict-22-Class-Defining-visibility.png)\n",
    "\n",
    "\n",
    "ตัวอย่างการเขียน code ที่มีการกำหนด visibility ใน plantUML\n",
    "\n",
    "![](./Pictures/Pict-23-Class-Book-with-visibility.png)"
   ]
  },
  {
   "cell_type": "markdown",
   "metadata": {},
   "source": [
    "### 4.2.4 การแสดงความสัมพันธ์ระหว่างคลาส \n",
    "\n",
    "ใน class diagram เราต้องแสดงความสัมพันธ์ระหว่างคลาส เพื่อบอกเรื่องราวที่ได้วิเคราะห์จาก problem domain \n",
    "\n",
    "ใน plantUML ก็มีเทคนิคในการเขียน code เพื่อให้โปรแกรมได้ render ออกมาเป็น graphics ตามมาตรฐานของ UML เช่นกัน พิจารณาจากรูปต่อไปนี้\n",
    "\n",
    "![](./Pictures/Pict-24-Relations-between-classes.png)\n",
    "\n",
    "เราสามารถนำเทคนิคการเขียน code มาสร้างความสัมพันธ์ระหว่างคลาสได้ในหลายรูปแบบ\n",
    "\n",
    "![](./Pictures/Pict-25-Relations-between-classes-examples.png)"
   ]
  },
  {
   "cell_type": "markdown",
   "metadata": {},
   "source": [
    "### 4.2.5 การทดลองวาด class diagram บน plantUML"
   ]
  },
  {
   "cell_type": "markdown",
   "metadata": {},
   "source": [
    "#### 4.2.5.1 ให้คัดลอก code ไปเขียนใน plantUML เพื่อให้เกิดภาพ class diagram ดังรูปต่อไปนี้\n",
    "\n",
    "![ss](Pictures/Pict-26-lab-pict-01.png)"
   ]
  },
  {
   "cell_type": "markdown",
   "metadata": {},
   "source": [
    "#### 4.2.5.2 ให้เขียน code เพื่อให้เกิดภาพ class diagram ดังรูปต่อไปนี้\n",
    "\n",
    "![](Pictures/Pict-27-lab-pict-02.png)"
   ]
  },
  {
   "cell_type": "markdown",
   "metadata": {},
   "source": [
    "#### 4.2.5.3 ให้นำ code ในรูปนี้ไปเขียนใน plantUML จะได้รูปคลาสไดอะแกรมแบบใดออกมา\n",
    "\n",
    "![](Pictures/Pict-28-lab-pict-03.png)"
   ]
  },
  {
   "cell_type": "markdown",
   "metadata": {},
   "source": [
    "#### 4.2.5.4 จงเขียน code ตามตัวอย่างในด้านขวาให้สมบูรณ์เพื่อให้แสดงภาพตามไดอะแกรมในด้านซ้าย\n",
    "\n",
    "![](Pictures/Pict-29-lab-pict-04.png)"
   ]
  },
  {
   "cell_type": "markdown",
   "metadata": {},
   "source": [
    "#### 4.2.5.6 จงเขียน code ตามตัวอย่างในด้านขวาให้สมบูรณ์เพื่อให้แสดงภาพตามไดอะแกรมในด้านซ้าย\n",
    "\n",
    "![](Pictures/Pict-31-lab-pict-06.png)"
   ]
  }
 ],
 "metadata": {
  "kernelspec": {
   "display_name": ".NET (C#)",
   "language": "C#",
   "name": ".net-csharp"
  },
  "polyglot_notebook": {
   "kernelInfo": {
    "defaultKernelName": "csharp",
    "items": [
     {
      "aliases": [],
      "languageName": "csharp",
      "name": "csharp"
     }
    ]
   }
  }
 },
 "nbformat": 4,
 "nbformat_minor": 2
}
